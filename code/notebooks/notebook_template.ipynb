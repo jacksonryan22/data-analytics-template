{
 "cells": [
  {
   "cell_type": "markdown",
   "id": "2543cbb0-b353-44fb-a5d6-92777cda6e80",
   "metadata": {},
   "source": [
    "# Project Name"
   ]
  },
  {
   "cell_type": "markdown",
   "id": "7fea2ab6-baae-4ba4-aa98-3ce944fdc735",
   "metadata": {},
   "source": [
    "**Author:** Jackson Ryan\n",
    "**Last Modified:** 11-13-2024 (created: 11-13-2024)\n",
    "\n",
    "**Description:** short paragraph explaining this project."
   ]
  },
  {
   "cell_type": "markdown",
   "id": "aaf8a9d8-5521-4e06-94cf-111fa866c46f",
   "metadata": {},
   "source": [
    "<br>"
   ]
  },
  {
   "cell_type": "markdown",
   "id": "a947a50d-8c6a-494d-a1c3-1ab9472c005b",
   "metadata": {},
   "source": [
    "Import libraries:"
   ]
  },
  {
   "cell_type": "code",
   "execution_count": 8,
   "id": "8f7108d5-0b08-4223-87db-68cf7b29272b",
   "metadata": {},
   "outputs": [],
   "source": [
    "import pandas as pd"
   ]
  },
  {
   "cell_type": "markdown",
   "id": "364ff973-bc17-4fd3-800e-1405d8e38267",
   "metadata": {},
   "source": [
    "<br>"
   ]
  },
  {
   "cell_type": "markdown",
   "id": "8e8c7924-47cb-48a2-ba3f-b7c19af99d35",
   "metadata": {},
   "source": [
    "Load data:"
   ]
  },
  {
   "cell_type": "code",
   "execution_count": 16,
   "id": "b85a32ec-3c35-45a1-a772-c770bf599752",
   "metadata": {},
   "outputs": [],
   "source": [
    "## code to read csv file"
   ]
  }
 ],
 "metadata": {
  "kernelspec": {
   "display_name": "Python 3 (ipykernel)",
   "language": "python",
   "name": "python3"
  },
  "language_info": {
   "codemirror_mode": {
    "name": "ipython",
    "version": 3
   },
   "file_extension": ".py",
   "mimetype": "text/x-python",
   "name": "python",
   "nbconvert_exporter": "python",
   "pygments_lexer": "ipython3",
   "version": "3.12.2"
  }
 },
 "nbformat": 4,
 "nbformat_minor": 5
}
